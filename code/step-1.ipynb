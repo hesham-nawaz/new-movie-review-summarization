{
 "cells": [
  {
   "cell_type": "markdown",
   "metadata": {},
   "source": [
    "# Setup"
   ]
  },
  {
   "cell_type": "markdown",
   "metadata": {},
   "source": [
    "## Libraries and Configurations"
   ]
  },
  {
   "cell_type": "code",
   "execution_count": 1,
   "metadata": {},
   "outputs": [
    {
     "name": "stderr",
     "output_type": "stream",
     "text": [
      "/Users/heshamnawaz/Desktop/Projects/.venv/lib/python3.12/site-packages/tqdm/auto.py:21: TqdmWarning: IProgress not found. Please update jupyter and ipywidgets. See https://ipywidgets.readthedocs.io/en/stable/user_install.html\n",
      "  from .autonotebook import tqdm as notebook_tqdm\n"
     ]
    }
   ],
   "source": [
    "import pandas as pd\n",
    "import os\n",
    "import openai\n",
    "from google import genai\n",
    "from tqdm.auto import tqdm\n",
    "import time\n",
    "from bert_score import score\n",
    "import os\n",
    "from dotenv import load_dotenv"
   ]
  },
  {
   "cell_type": "markdown",
   "metadata": {},
   "source": [
    "https://www.kaggle.com/datasets/andrezaza/clapper-massive-rotten-tomatoes-movies-and-reviews\n",
    "\n",
    "https://www.kaggle.com/datasets/stefanoleone992/rotten-tomatoes-movies-and-critic-reviews-dataset?resource=download\n",
    "\n"
   ]
  },
  {
   "cell_type": "markdown",
   "metadata": {},
   "source": [
    "## Load Data"
   ]
  },
  {
   "cell_type": "code",
   "execution_count": 3,
   "metadata": {},
   "outputs": [],
   "source": [
    "data_path = '/Users/heshamnawaz/Desktop/Projects/New Movie Review Summarization/data'"
   ]
  },
  {
   "cell_type": "code",
   "execution_count": 4,
   "metadata": {},
   "outputs": [],
   "source": [
    "reviews = pd.read_csv(f'{data_path}/rotten_tomatoes_critic_reviews.csv')\n",
    "movies = pd.read_csv(f'{data_path}/rotten_tomatoes_movies.csv')"
   ]
  },
  {
   "cell_type": "code",
   "execution_count": 5,
   "metadata": {},
   "outputs": [
    {
     "data": {
      "text/html": [
       "<div>\n",
       "<style scoped>\n",
       "    .dataframe tbody tr th:only-of-type {\n",
       "        vertical-align: middle;\n",
       "    }\n",
       "\n",
       "    .dataframe tbody tr th {\n",
       "        vertical-align: top;\n",
       "    }\n",
       "\n",
       "    .dataframe thead th {\n",
       "        text-align: right;\n",
       "    }\n",
       "</style>\n",
       "<table border=\"1\" class=\"dataframe\">\n",
       "  <thead>\n",
       "    <tr style=\"text-align: right;\">\n",
       "      <th></th>\n",
       "      <th>rotten_tomatoes_link</th>\n",
       "      <th>movie_title</th>\n",
       "      <th>movie_info</th>\n",
       "      <th>critics_consensus</th>\n",
       "      <th>content_rating</th>\n",
       "      <th>genres</th>\n",
       "      <th>directors</th>\n",
       "      <th>authors</th>\n",
       "      <th>actors</th>\n",
       "      <th>original_release_date</th>\n",
       "      <th>...</th>\n",
       "      <th>production_company</th>\n",
       "      <th>tomatometer_status</th>\n",
       "      <th>tomatometer_rating</th>\n",
       "      <th>tomatometer_count</th>\n",
       "      <th>audience_status</th>\n",
       "      <th>audience_rating</th>\n",
       "      <th>audience_count</th>\n",
       "      <th>tomatometer_top_critics_count</th>\n",
       "      <th>tomatometer_fresh_critics_count</th>\n",
       "      <th>tomatometer_rotten_critics_count</th>\n",
       "    </tr>\n",
       "  </thead>\n",
       "  <tbody>\n",
       "    <tr>\n",
       "      <th>0</th>\n",
       "      <td>m/0814255</td>\n",
       "      <td>Percy Jackson &amp; the Olympians: The Lightning T...</td>\n",
       "      <td>Always trouble-prone, the life of teenager Per...</td>\n",
       "      <td>Though it may seem like just another Harry Pot...</td>\n",
       "      <td>PG</td>\n",
       "      <td>Action &amp; Adventure, Comedy, Drama, Science Fic...</td>\n",
       "      <td>Chris Columbus</td>\n",
       "      <td>Craig Titley, Chris Columbus, Rick Riordan</td>\n",
       "      <td>Logan Lerman, Brandon T. Jackson, Alexandra Da...</td>\n",
       "      <td>2010-02-12</td>\n",
       "      <td>...</td>\n",
       "      <td>20th Century Fox</td>\n",
       "      <td>Rotten</td>\n",
       "      <td>49.0</td>\n",
       "      <td>149.0</td>\n",
       "      <td>Spilled</td>\n",
       "      <td>53.0</td>\n",
       "      <td>254421.0</td>\n",
       "      <td>43</td>\n",
       "      <td>73</td>\n",
       "      <td>76</td>\n",
       "    </tr>\n",
       "  </tbody>\n",
       "</table>\n",
       "<p>1 rows × 22 columns</p>\n",
       "</div>"
      ],
      "text/plain": [
       "  rotten_tomatoes_link                                        movie_title  \\\n",
       "0            m/0814255  Percy Jackson & the Olympians: The Lightning T...   \n",
       "\n",
       "                                          movie_info  \\\n",
       "0  Always trouble-prone, the life of teenager Per...   \n",
       "\n",
       "                                   critics_consensus content_rating  \\\n",
       "0  Though it may seem like just another Harry Pot...             PG   \n",
       "\n",
       "                                              genres       directors  \\\n",
       "0  Action & Adventure, Comedy, Drama, Science Fic...  Chris Columbus   \n",
       "\n",
       "                                      authors  \\\n",
       "0  Craig Titley, Chris Columbus, Rick Riordan   \n",
       "\n",
       "                                              actors original_release_date  \\\n",
       "0  Logan Lerman, Brandon T. Jackson, Alexandra Da...            2010-02-12   \n",
       "\n",
       "   ... production_company  tomatometer_status tomatometer_rating  \\\n",
       "0  ...   20th Century Fox              Rotten               49.0   \n",
       "\n",
       "  tomatometer_count  audience_status  audience_rating audience_count  \\\n",
       "0             149.0          Spilled             53.0       254421.0   \n",
       "\n",
       "   tomatometer_top_critics_count  tomatometer_fresh_critics_count  \\\n",
       "0                             43                               73   \n",
       "\n",
       "   tomatometer_rotten_critics_count  \n",
       "0                                76  \n",
       "\n",
       "[1 rows x 22 columns]"
      ]
     },
     "execution_count": 5,
     "metadata": {},
     "output_type": "execute_result"
    }
   ],
   "source": [
    "movies.head(1)"
   ]
  },
  {
   "cell_type": "code",
   "execution_count": 6,
   "metadata": {},
   "outputs": [
    {
     "data": {
      "text/html": [
       "<div>\n",
       "<style scoped>\n",
       "    .dataframe tbody tr th:only-of-type {\n",
       "        vertical-align: middle;\n",
       "    }\n",
       "\n",
       "    .dataframe tbody tr th {\n",
       "        vertical-align: top;\n",
       "    }\n",
       "\n",
       "    .dataframe thead th {\n",
       "        text-align: right;\n",
       "    }\n",
       "</style>\n",
       "<table border=\"1\" class=\"dataframe\">\n",
       "  <thead>\n",
       "    <tr style=\"text-align: right;\">\n",
       "      <th></th>\n",
       "      <th>runtime</th>\n",
       "      <th>tomatometer_rating</th>\n",
       "      <th>tomatometer_count</th>\n",
       "      <th>audience_rating</th>\n",
       "      <th>audience_count</th>\n",
       "      <th>tomatometer_top_critics_count</th>\n",
       "      <th>tomatometer_fresh_critics_count</th>\n",
       "      <th>tomatometer_rotten_critics_count</th>\n",
       "    </tr>\n",
       "  </thead>\n",
       "  <tbody>\n",
       "    <tr>\n",
       "      <th>count</th>\n",
       "      <td>17398.000000</td>\n",
       "      <td>17668.000000</td>\n",
       "      <td>17668.000000</td>\n",
       "      <td>17416.000000</td>\n",
       "      <td>1.741500e+04</td>\n",
       "      <td>17712.000000</td>\n",
       "      <td>17712.000000</td>\n",
       "      <td>17712.000000</td>\n",
       "    </tr>\n",
       "    <tr>\n",
       "      <th>mean</th>\n",
       "      <td>102.214048</td>\n",
       "      <td>60.884763</td>\n",
       "      <td>57.139801</td>\n",
       "      <td>60.554260</td>\n",
       "      <td>1.439401e+05</td>\n",
       "      <td>14.586326</td>\n",
       "      <td>36.374831</td>\n",
       "      <td>20.703139</td>\n",
       "    </tr>\n",
       "    <tr>\n",
       "      <th>std</th>\n",
       "      <td>18.702511</td>\n",
       "      <td>28.443348</td>\n",
       "      <td>68.370047</td>\n",
       "      <td>20.543369</td>\n",
       "      <td>1.763577e+06</td>\n",
       "      <td>15.146349</td>\n",
       "      <td>52.601038</td>\n",
       "      <td>30.248435</td>\n",
       "    </tr>\n",
       "    <tr>\n",
       "      <th>min</th>\n",
       "      <td>5.000000</td>\n",
       "      <td>0.000000</td>\n",
       "      <td>5.000000</td>\n",
       "      <td>0.000000</td>\n",
       "      <td>5.000000e+00</td>\n",
       "      <td>0.000000</td>\n",
       "      <td>0.000000</td>\n",
       "      <td>0.000000</td>\n",
       "    </tr>\n",
       "    <tr>\n",
       "      <th>25%</th>\n",
       "      <td>90.000000</td>\n",
       "      <td>38.000000</td>\n",
       "      <td>12.000000</td>\n",
       "      <td>45.000000</td>\n",
       "      <td>7.075000e+02</td>\n",
       "      <td>3.000000</td>\n",
       "      <td>6.000000</td>\n",
       "      <td>3.000000</td>\n",
       "    </tr>\n",
       "    <tr>\n",
       "      <th>50%</th>\n",
       "      <td>99.000000</td>\n",
       "      <td>67.000000</td>\n",
       "      <td>28.000000</td>\n",
       "      <td>63.000000</td>\n",
       "      <td>4.277000e+03</td>\n",
       "      <td>8.000000</td>\n",
       "      <td>16.000000</td>\n",
       "      <td>8.000000</td>\n",
       "    </tr>\n",
       "    <tr>\n",
       "      <th>75%</th>\n",
       "      <td>111.000000</td>\n",
       "      <td>86.000000</td>\n",
       "      <td>75.000000</td>\n",
       "      <td>78.000000</td>\n",
       "      <td>2.498800e+04</td>\n",
       "      <td>23.000000</td>\n",
       "      <td>44.000000</td>\n",
       "      <td>24.000000</td>\n",
       "    </tr>\n",
       "    <tr>\n",
       "      <th>max</th>\n",
       "      <td>266.000000</td>\n",
       "      <td>100.000000</td>\n",
       "      <td>574.000000</td>\n",
       "      <td>100.000000</td>\n",
       "      <td>3.579764e+07</td>\n",
       "      <td>69.000000</td>\n",
       "      <td>497.000000</td>\n",
       "      <td>303.000000</td>\n",
       "    </tr>\n",
       "  </tbody>\n",
       "</table>\n",
       "</div>"
      ],
      "text/plain": [
       "            runtime  tomatometer_rating  tomatometer_count  audience_rating  \\\n",
       "count  17398.000000        17668.000000       17668.000000     17416.000000   \n",
       "mean     102.214048           60.884763          57.139801        60.554260   \n",
       "std       18.702511           28.443348          68.370047        20.543369   \n",
       "min        5.000000            0.000000           5.000000         0.000000   \n",
       "25%       90.000000           38.000000          12.000000        45.000000   \n",
       "50%       99.000000           67.000000          28.000000        63.000000   \n",
       "75%      111.000000           86.000000          75.000000        78.000000   \n",
       "max      266.000000          100.000000         574.000000       100.000000   \n",
       "\n",
       "       audience_count  tomatometer_top_critics_count  \\\n",
       "count    1.741500e+04                   17712.000000   \n",
       "mean     1.439401e+05                      14.586326   \n",
       "std      1.763577e+06                      15.146349   \n",
       "min      5.000000e+00                       0.000000   \n",
       "25%      7.075000e+02                       3.000000   \n",
       "50%      4.277000e+03                       8.000000   \n",
       "75%      2.498800e+04                      23.000000   \n",
       "max      3.579764e+07                      69.000000   \n",
       "\n",
       "       tomatometer_fresh_critics_count  tomatometer_rotten_critics_count  \n",
       "count                     17712.000000                      17712.000000  \n",
       "mean                         36.374831                         20.703139  \n",
       "std                          52.601038                         30.248435  \n",
       "min                           0.000000                          0.000000  \n",
       "25%                           6.000000                          3.000000  \n",
       "50%                          16.000000                          8.000000  \n",
       "75%                          44.000000                         24.000000  \n",
       "max                         497.000000                        303.000000  "
      ]
     },
     "execution_count": 6,
     "metadata": {},
     "output_type": "execute_result"
    }
   ],
   "source": [
    "movies.describe()"
   ]
  },
  {
   "cell_type": "code",
   "execution_count": 7,
   "metadata": {},
   "outputs": [
    {
     "data": {
      "text/html": [
       "<div>\n",
       "<style scoped>\n",
       "    .dataframe tbody tr th:only-of-type {\n",
       "        vertical-align: middle;\n",
       "    }\n",
       "\n",
       "    .dataframe tbody tr th {\n",
       "        vertical-align: top;\n",
       "    }\n",
       "\n",
       "    .dataframe thead th {\n",
       "        text-align: right;\n",
       "    }\n",
       "</style>\n",
       "<table border=\"1\" class=\"dataframe\">\n",
       "  <thead>\n",
       "    <tr style=\"text-align: right;\">\n",
       "      <th></th>\n",
       "      <th>rotten_tomatoes_link</th>\n",
       "      <th>critic_name</th>\n",
       "      <th>top_critic</th>\n",
       "      <th>publisher_name</th>\n",
       "      <th>review_type</th>\n",
       "      <th>review_score</th>\n",
       "      <th>review_date</th>\n",
       "      <th>review_content</th>\n",
       "    </tr>\n",
       "  </thead>\n",
       "  <tbody>\n",
       "    <tr>\n",
       "      <th>0</th>\n",
       "      <td>m/0814255</td>\n",
       "      <td>Andrew L. Urban</td>\n",
       "      <td>False</td>\n",
       "      <td>Urban Cinefile</td>\n",
       "      <td>Fresh</td>\n",
       "      <td>NaN</td>\n",
       "      <td>2010-02-06</td>\n",
       "      <td>A fantasy adventure that fuses Greek mythology...</td>\n",
       "    </tr>\n",
       "    <tr>\n",
       "      <th>1</th>\n",
       "      <td>m/0814255</td>\n",
       "      <td>Louise Keller</td>\n",
       "      <td>False</td>\n",
       "      <td>Urban Cinefile</td>\n",
       "      <td>Fresh</td>\n",
       "      <td>NaN</td>\n",
       "      <td>2010-02-06</td>\n",
       "      <td>Uma Thurman as Medusa, the gorgon with a coiff...</td>\n",
       "    </tr>\n",
       "    <tr>\n",
       "      <th>2</th>\n",
       "      <td>m/0814255</td>\n",
       "      <td>NaN</td>\n",
       "      <td>False</td>\n",
       "      <td>FILMINK (Australia)</td>\n",
       "      <td>Fresh</td>\n",
       "      <td>NaN</td>\n",
       "      <td>2010-02-09</td>\n",
       "      <td>With a top-notch cast and dazzling special eff...</td>\n",
       "    </tr>\n",
       "    <tr>\n",
       "      <th>3</th>\n",
       "      <td>m/0814255</td>\n",
       "      <td>Ben McEachen</td>\n",
       "      <td>False</td>\n",
       "      <td>Sunday Mail (Australia)</td>\n",
       "      <td>Fresh</td>\n",
       "      <td>3.5/5</td>\n",
       "      <td>2010-02-09</td>\n",
       "      <td>Whether audiences will get behind The Lightnin...</td>\n",
       "    </tr>\n",
       "    <tr>\n",
       "      <th>4</th>\n",
       "      <td>m/0814255</td>\n",
       "      <td>Ethan Alter</td>\n",
       "      <td>True</td>\n",
       "      <td>Hollywood Reporter</td>\n",
       "      <td>Rotten</td>\n",
       "      <td>NaN</td>\n",
       "      <td>2010-02-10</td>\n",
       "      <td>What's really lacking in The Lightning Thief i...</td>\n",
       "    </tr>\n",
       "  </tbody>\n",
       "</table>\n",
       "</div>"
      ],
      "text/plain": [
       "  rotten_tomatoes_link      critic_name  top_critic           publisher_name  \\\n",
       "0            m/0814255  Andrew L. Urban       False           Urban Cinefile   \n",
       "1            m/0814255    Louise Keller       False           Urban Cinefile   \n",
       "2            m/0814255              NaN       False      FILMINK (Australia)   \n",
       "3            m/0814255     Ben McEachen       False  Sunday Mail (Australia)   \n",
       "4            m/0814255      Ethan Alter        True       Hollywood Reporter   \n",
       "\n",
       "  review_type review_score review_date  \\\n",
       "0       Fresh          NaN  2010-02-06   \n",
       "1       Fresh          NaN  2010-02-06   \n",
       "2       Fresh          NaN  2010-02-09   \n",
       "3       Fresh        3.5/5  2010-02-09   \n",
       "4      Rotten          NaN  2010-02-10   \n",
       "\n",
       "                                      review_content  \n",
       "0  A fantasy adventure that fuses Greek mythology...  \n",
       "1  Uma Thurman as Medusa, the gorgon with a coiff...  \n",
       "2  With a top-notch cast and dazzling special eff...  \n",
       "3  Whether audiences will get behind The Lightnin...  \n",
       "4  What's really lacking in The Lightning Thief i...  "
      ]
     },
     "execution_count": 7,
     "metadata": {},
     "output_type": "execute_result"
    }
   ],
   "source": [
    "reviews.head()"
   ]
  },
  {
   "cell_type": "code",
   "execution_count": 8,
   "metadata": {},
   "outputs": [
    {
     "data": {
      "text/html": [
       "<div>\n",
       "<style scoped>\n",
       "    .dataframe tbody tr th:only-of-type {\n",
       "        vertical-align: middle;\n",
       "    }\n",
       "\n",
       "    .dataframe tbody tr th {\n",
       "        vertical-align: top;\n",
       "    }\n",
       "\n",
       "    .dataframe thead th {\n",
       "        text-align: right;\n",
       "    }\n",
       "</style>\n",
       "<table border=\"1\" class=\"dataframe\">\n",
       "  <thead>\n",
       "    <tr style=\"text-align: right;\">\n",
       "      <th></th>\n",
       "      <th>rotten_tomatoes_link</th>\n",
       "      <th>critic_name</th>\n",
       "      <th>top_critic</th>\n",
       "      <th>publisher_name</th>\n",
       "      <th>review_type</th>\n",
       "      <th>review_score</th>\n",
       "      <th>review_date</th>\n",
       "      <th>review_content</th>\n",
       "    </tr>\n",
       "  </thead>\n",
       "  <tbody>\n",
       "    <tr>\n",
       "      <th>count</th>\n",
       "      <td>1130017</td>\n",
       "      <td>1111488</td>\n",
       "      <td>1130017</td>\n",
       "      <td>1130017</td>\n",
       "      <td>1130017</td>\n",
       "      <td>824081</td>\n",
       "      <td>1130017</td>\n",
       "      <td>1064211</td>\n",
       "    </tr>\n",
       "    <tr>\n",
       "      <th>unique</th>\n",
       "      <td>17712</td>\n",
       "      <td>11108</td>\n",
       "      <td>2</td>\n",
       "      <td>2230</td>\n",
       "      <td>2</td>\n",
       "      <td>814</td>\n",
       "      <td>8015</td>\n",
       "      <td>949181</td>\n",
       "    </tr>\n",
       "    <tr>\n",
       "      <th>top</th>\n",
       "      <td>m/star_wars_the_rise_of_skywalker</td>\n",
       "      <td>Emanuel Levy</td>\n",
       "      <td>False</td>\n",
       "      <td>New York Times</td>\n",
       "      <td>Fresh</td>\n",
       "      <td>3/5</td>\n",
       "      <td>2000-01-01</td>\n",
       "      <td>Parental Content Review</td>\n",
       "    </tr>\n",
       "    <tr>\n",
       "      <th>freq</th>\n",
       "      <td>992</td>\n",
       "      <td>8173</td>\n",
       "      <td>841481</td>\n",
       "      <td>13293</td>\n",
       "      <td>720210</td>\n",
       "      <td>90273</td>\n",
       "      <td>48019</td>\n",
       "      <td>267</td>\n",
       "    </tr>\n",
       "  </tbody>\n",
       "</table>\n",
       "</div>"
      ],
      "text/plain": [
       "                     rotten_tomatoes_link   critic_name top_critic  \\\n",
       "count                             1130017       1111488    1130017   \n",
       "unique                              17712         11108          2   \n",
       "top     m/star_wars_the_rise_of_skywalker  Emanuel Levy      False   \n",
       "freq                                  992          8173     841481   \n",
       "\n",
       "        publisher_name review_type review_score review_date  \\\n",
       "count          1130017     1130017       824081     1130017   \n",
       "unique            2230           2          814        8015   \n",
       "top     New York Times       Fresh          3/5  2000-01-01   \n",
       "freq             13293      720210        90273       48019   \n",
       "\n",
       "                 review_content  \n",
       "count                   1064211  \n",
       "unique                   949181  \n",
       "top     Parental Content Review  \n",
       "freq                        267  "
      ]
     },
     "execution_count": 8,
     "metadata": {},
     "output_type": "execute_result"
    }
   ],
   "source": [
    "reviews.describe()"
   ]
  },
  {
   "cell_type": "code",
   "execution_count": 9,
   "metadata": {},
   "outputs": [
    {
     "data": {
      "text/plain": [
       "'A fantasy adventure that fuses Greek mythology to contemporary American places and values. Anyone around 15 (give or take a couple of years) will thrill to the visual spectacle'"
      ]
     },
     "execution_count": 9,
     "metadata": {},
     "output_type": "execute_result"
    }
   ],
   "source": [
    "reviews.review_content.iloc[0]"
   ]
  },
  {
   "cell_type": "code",
   "execution_count": 10,
   "metadata": {},
   "outputs": [
    {
     "name": "stdout",
     "output_type": "stream",
     "text": [
      "Number of movies with critics consensus: 9134\n"
     ]
    },
    {
     "name": "stderr",
     "output_type": "stream",
     "text": [
      "/var/folders/4f/h14zcr_15ss0fltppyfwj1q80000gn/T/ipykernel_10155/3745288495.py:3: SettingWithCopyWarning: \n",
      "A value is trying to be set on a copy of a slice from a DataFrame\n",
      "\n",
      "See the caveats in the documentation: https://pandas.pydata.org/pandas-docs/stable/user_guide/indexing.html#returning-a-view-versus-a-copy\n",
      "  movies_selected.dropna(inplace=True)\n"
     ]
    }
   ],
   "source": [
    "movies_selected_columns = ['rotten_tomatoes_link', 'movie_title', 'critics_consensus']\n",
    "movies_selected = movies[movies_selected_columns]\n",
    "movies_selected.dropna(inplace=True)\n",
    "print(f\"Number of movies with critics consensus: {movies_selected.shape[0]}\")"
   ]
  },
  {
   "cell_type": "code",
   "execution_count": 11,
   "metadata": {},
   "outputs": [
    {
     "name": "stderr",
     "output_type": "stream",
     "text": [
      "/var/folders/4f/h14zcr_15ss0fltppyfwj1q80000gn/T/ipykernel_10155/1682456736.py:2: SettingWithCopyWarning: \n",
      "A value is trying to be set on a copy of a slice from a DataFrame.\n",
      "Try using .loc[row_indexer,col_indexer] = value instead\n",
      "\n",
      "See the caveats in the documentation: https://pandas.pydata.org/pandas-docs/stable/user_guide/indexing.html#returning-a-view-versus-a-copy\n",
      "  movies_selected['rotten_tomatoes_link'] = movies_selected['rotten_tomatoes_link'].astype(str)\n"
     ]
    }
   ],
   "source": [
    "# Convert the 'rotten_tomatoes_link' column to object type\n",
    "movies_selected['rotten_tomatoes_link'] = movies_selected['rotten_tomatoes_link'].astype(str)\n",
    "reviews['rotten_tomatoes_link'] = reviews['rotten_tomatoes_link'].astype(str)\n",
    "reviews.dropna(subset=['review_content'], inplace=True)\n",
    "grouped_reviews = reviews.groupby('rotten_tomatoes_link')['review_content'].apply(list).reset_index()"
   ]
  },
  {
   "cell_type": "code",
   "execution_count": 12,
   "metadata": {},
   "outputs": [
    {
     "data": {
      "text/html": [
       "<div>\n",
       "<style scoped>\n",
       "    .dataframe tbody tr th:only-of-type {\n",
       "        vertical-align: middle;\n",
       "    }\n",
       "\n",
       "    .dataframe tbody tr th {\n",
       "        vertical-align: top;\n",
       "    }\n",
       "\n",
       "    .dataframe thead th {\n",
       "        text-align: right;\n",
       "    }\n",
       "</style>\n",
       "<table border=\"1\" class=\"dataframe\">\n",
       "  <thead>\n",
       "    <tr style=\"text-align: right;\">\n",
       "      <th></th>\n",
       "      <th>rotten_tomatoes_link</th>\n",
       "      <th>review_content</th>\n",
       "      <th>movie_title</th>\n",
       "      <th>critics_consensus</th>\n",
       "    </tr>\n",
       "  </thead>\n",
       "  <tbody>\n",
       "    <tr>\n",
       "      <th>0</th>\n",
       "      <td>m/0814255</td>\n",
       "      <td>[A fantasy adventure that fuses Greek mytholog...</td>\n",
       "      <td>Percy Jackson &amp; the Olympians: The Lightning T...</td>\n",
       "      <td>Though it may seem like just another Harry Pot...</td>\n",
       "    </tr>\n",
       "    <tr>\n",
       "      <th>1</th>\n",
       "      <td>m/0878835</td>\n",
       "      <td>[Like Holofcener's previous pictures, Please G...</td>\n",
       "      <td>Please Give</td>\n",
       "      <td>Nicole Holofcener's newest might seem slight i...</td>\n",
       "    </tr>\n",
       "    <tr>\n",
       "      <th>2</th>\n",
       "      <td>m/10</td>\n",
       "      <td>[10 (1979) is known for its numerical rating s...</td>\n",
       "      <td>10</td>\n",
       "      <td>Blake Edwards' bawdy comedy may not score a pe...</td>\n",
       "    </tr>\n",
       "    <tr>\n",
       "      <th>3</th>\n",
       "      <td>m/1000013-12_angry_men</td>\n",
       "      <td>[A film with texture, humour and relevance at ...</td>\n",
       "      <td>12 Angry Men (Twelve Angry Men)</td>\n",
       "      <td>Sidney Lumet's feature debut is a superbly wri...</td>\n",
       "    </tr>\n",
       "    <tr>\n",
       "      <th>4</th>\n",
       "      <td>m/1000079-20000_leagues_under_the_sea</td>\n",
       "      <td>[[The] embodiment of Disney at his best -- fam...</td>\n",
       "      <td>20,000 Leagues Under The Sea</td>\n",
       "      <td>One of Disney's finest live-action adventures,...</td>\n",
       "    </tr>\n",
       "    <tr>\n",
       "      <th>...</th>\n",
       "      <td>...</td>\n",
       "      <td>...</td>\n",
       "      <td>...</td>\n",
       "      <td>...</td>\n",
       "    </tr>\n",
       "    <tr>\n",
       "      <th>9127</th>\n",
       "      <td>m/zoolander</td>\n",
       "      <td>[Making a movie that's stupid fun must be real...</td>\n",
       "      <td>Zoolander</td>\n",
       "      <td>A wacky satire on the fashion industry, Zoolan...</td>\n",
       "    </tr>\n",
       "    <tr>\n",
       "      <th>9128</th>\n",
       "      <td>m/zoolander_2</td>\n",
       "      <td>[Like its predecessor, the best bits of this s...</td>\n",
       "      <td>Zoolander 2</td>\n",
       "      <td>Zoolander No. 2 has more celebrity cameos than...</td>\n",
       "    </tr>\n",
       "    <tr>\n",
       "      <th>9129</th>\n",
       "      <td>m/zoom_2006</td>\n",
       "      <td>[The whole thing is a PG-rated greatest hits c...</td>\n",
       "      <td>Zoom</td>\n",
       "      <td>Lacking the punch and good cheer of The Incred...</td>\n",
       "    </tr>\n",
       "    <tr>\n",
       "      <th>9130</th>\n",
       "      <td>m/zootopia</td>\n",
       "      <td>[The variety of cute - and occasionally slight...</td>\n",
       "      <td>Zootopia</td>\n",
       "      <td>The brilliantly well-rounded Zootopia offers a...</td>\n",
       "    </tr>\n",
       "    <tr>\n",
       "      <th>9131</th>\n",
       "      <td>m/zulu</td>\n",
       "      <td>[This amazing film is devastatingly accurate i...</td>\n",
       "      <td>Zulu</td>\n",
       "      <td>Zulu patiently establishes a cast of colorful ...</td>\n",
       "    </tr>\n",
       "  </tbody>\n",
       "</table>\n",
       "<p>9132 rows × 4 columns</p>\n",
       "</div>"
      ],
      "text/plain": [
       "                       rotten_tomatoes_link  \\\n",
       "0                                 m/0814255   \n",
       "1                                 m/0878835   \n",
       "2                                      m/10   \n",
       "3                    m/1000013-12_angry_men   \n",
       "4     m/1000079-20000_leagues_under_the_sea   \n",
       "...                                     ...   \n",
       "9127                            m/zoolander   \n",
       "9128                          m/zoolander_2   \n",
       "9129                            m/zoom_2006   \n",
       "9130                             m/zootopia   \n",
       "9131                                 m/zulu   \n",
       "\n",
       "                                         review_content  \\\n",
       "0     [A fantasy adventure that fuses Greek mytholog...   \n",
       "1     [Like Holofcener's previous pictures, Please G...   \n",
       "2     [10 (1979) is known for its numerical rating s...   \n",
       "3     [A film with texture, humour and relevance at ...   \n",
       "4     [[The] embodiment of Disney at his best -- fam...   \n",
       "...                                                 ...   \n",
       "9127  [Making a movie that's stupid fun must be real...   \n",
       "9128  [Like its predecessor, the best bits of this s...   \n",
       "9129  [The whole thing is a PG-rated greatest hits c...   \n",
       "9130  [The variety of cute - and occasionally slight...   \n",
       "9131  [This amazing film is devastatingly accurate i...   \n",
       "\n",
       "                                            movie_title  \\\n",
       "0     Percy Jackson & the Olympians: The Lightning T...   \n",
       "1                                           Please Give   \n",
       "2                                                    10   \n",
       "3                       12 Angry Men (Twelve Angry Men)   \n",
       "4                          20,000 Leagues Under The Sea   \n",
       "...                                                 ...   \n",
       "9127                                          Zoolander   \n",
       "9128                                        Zoolander 2   \n",
       "9129                                               Zoom   \n",
       "9130                                           Zootopia   \n",
       "9131                                               Zulu   \n",
       "\n",
       "                                      critics_consensus  \n",
       "0     Though it may seem like just another Harry Pot...  \n",
       "1     Nicole Holofcener's newest might seem slight i...  \n",
       "2     Blake Edwards' bawdy comedy may not score a pe...  \n",
       "3     Sidney Lumet's feature debut is a superbly wri...  \n",
       "4     One of Disney's finest live-action adventures,...  \n",
       "...                                                 ...  \n",
       "9127  A wacky satire on the fashion industry, Zoolan...  \n",
       "9128  Zoolander No. 2 has more celebrity cameos than...  \n",
       "9129  Lacking the punch and good cheer of The Incred...  \n",
       "9130  The brilliantly well-rounded Zootopia offers a...  \n",
       "9131  Zulu patiently establishes a cast of colorful ...  \n",
       "\n",
       "[9132 rows x 4 columns]"
      ]
     },
     "execution_count": 12,
     "metadata": {},
     "output_type": "execute_result"
    }
   ],
   "source": [
    "full_reviews = grouped_reviews.merge(movies_selected, on='rotten_tomatoes_link', how='inner')\n",
    "# Drop where review_content is missing\n",
    "full_reviews"
   ]
  },
  {
   "cell_type": "code",
   "execution_count": 13,
   "metadata": {},
   "outputs": [
    {
     "name": "stdout",
     "output_type": "stream",
     "text": [
      "Average number of characters in critics consensus: 143.11793692509855\n",
      "Average number of words in critics consensus: 22.452474813841437\n",
      "Average number of sentences in critics consensus: 2.0589137100306614\n"
     ]
    }
   ],
   "source": [
    "print(\"Average number of characters in critics consensus:\", full_reviews.critics_consensus.apply(lambda x: len(x) if type(x) == str else 0).mean())\n",
    "print(\"Average number of words in critics consensus:\", full_reviews.critics_consensus.apply(lambda x: len(x.split()) if type(x) == str else 0).mean())\n",
    "print(\"Average number of sentences in critics consensus:\", full_reviews.critics_consensus.apply(lambda x: len(x.split('.')) if type(x) == str else 0).mean())"
   ]
  },
  {
   "cell_type": "markdown",
   "metadata": {},
   "source": [
    "At this point, we have a dataframe with the movie title, critics consensus, and a list of reviews for each movie."
   ]
  },
  {
   "cell_type": "markdown",
   "metadata": {},
   "source": [
    "# Approaches"
   ]
  },
  {
   "cell_type": "markdown",
   "metadata": {},
   "source": [
    "## Zero-shot"
   ]
  },
  {
   "cell_type": "markdown",
   "metadata": {},
   "source": [
    "### Gemini"
   ]
  },
  {
   "cell_type": "code",
   "execution_count": 14,
   "metadata": {},
   "outputs": [],
   "source": [
    "# Load environment variables from .env file\n",
    "load_dotenv()\n",
    "\n",
    "# Get API key from environment variable\n",
    "api_key = os.getenv(\"GEMINI_API_KEY\")\n",
    "client = genai.Client(api_key=api_key)"
   ]
  },
  {
   "cell_type": "code",
   "execution_count": 15,
   "metadata": {},
   "outputs": [],
   "source": [
    "# Function to generate a summary using the Gemini API\n",
    "def generate_review_summary(reviews, movie_title, max_output_tokens=250, model=\"gemini-2.0-flash-lite\"):\n",
    "    # Join all reviews into a single string\n",
    "    reviews_text = \" \".join(reviews)\n",
    "    \n",
    "    prompt = f\"\"\"Summarize the following movie reviews for \"{movie_title}\". The summary should be around 2 sentences and around 25 words.\n",
    "    \n",
    "    Reviews:\n",
    "    {reviews_text}\n",
    "    \n",
    "    Summary:\"\"\"\n",
    "    \n",
    "    try:\n",
    "        response = client.models.generate_content(model=\"gemini-2.0-flash-lite\", contents=prompt)\n",
    "        return response.text\n",
    "    except Exception as e:\n",
    "        print(f\"Error generating summary for {movie_title}: {e}\")\n",
    "        return None"
   ]
  },
  {
   "cell_type": "code",
   "execution_count": 16,
   "metadata": {},
   "outputs": [],
   "source": [
    "# Create a sample of movies to test the approach (to save API costs)\n",
    "sample_size = 5  # Adjust based on your needs\n",
    "movie_sample = full_reviews.sample(sample_size, random_state=42)"
   ]
  },
  {
   "cell_type": "code",
   "execution_count": 17,
   "metadata": {},
   "outputs": [
    {
     "name": "stderr",
     "output_type": "stream",
     "text": [
      "  0%|          | 0/5 [00:00<?, ?it/s]"
     ]
    },
    {
     "name": "stderr",
     "output_type": "stream",
     "text": [
      "100%|██████████| 5/5 [00:10<00:00,  2.18s/it]\n"
     ]
    }
   ],
   "source": [
    "# Generate summaries for the sample\n",
    "summaries = []\n",
    "for _, row in tqdm(movie_sample.iterrows(), total=len(movie_sample)):\n",
    "    movie_title = row['movie_title']\n",
    "    reviews_list = row['review_content']\n",
    "    \n",
    "    # Generate summary\n",
    "    summary = generate_review_summary(reviews_list, movie_title)\n",
    "    \n",
    "    # Add to results\n",
    "    summaries.append({\n",
    "        'movie_title': movie_title,\n",
    "        'critics_consensus': row['critics_consensus'],\n",
    "        'generated_summary': summary,\n",
    "        'num_reviews': len(reviews_list)\n",
    "    })\n",
    "    \n",
    "    # Sleep to avoid rate limiting\n",
    "    time.sleep(1)"
   ]
  },
  {
   "cell_type": "code",
   "execution_count": 18,
   "metadata": {},
   "outputs": [
    {
     "data": {
      "text/html": [
       "<div>\n",
       "<style scoped>\n",
       "    .dataframe tbody tr th:only-of-type {\n",
       "        vertical-align: middle;\n",
       "    }\n",
       "\n",
       "    .dataframe tbody tr th {\n",
       "        vertical-align: top;\n",
       "    }\n",
       "\n",
       "    .dataframe thead th {\n",
       "        text-align: right;\n",
       "    }\n",
       "</style>\n",
       "<table border=\"1\" class=\"dataframe\">\n",
       "  <thead>\n",
       "    <tr style=\"text-align: right;\">\n",
       "      <th></th>\n",
       "      <th>movie_title</th>\n",
       "      <th>critics_consensus</th>\n",
       "      <th>generated_summary</th>\n",
       "    </tr>\n",
       "  </thead>\n",
       "  <tbody>\n",
       "    <tr>\n",
       "      <th>0</th>\n",
       "      <td>Hour of the Wolf (Vargtimmen)</td>\n",
       "      <td>Ingmar Bergman makes a successful foray into horror with Hour of the Wolf, infusing the demons that spring from creativity with his trademark psychological curiosity.</td>\n",
       "      <td>\"Hour of the Wolf\" is a haunting and outlandish gothic fantasy, exploring existential dread and the impossible nature of relationships. It's a psychologically terrifying and visually striking film, though some consider it a less successful Bergman work.\\n</td>\n",
       "    </tr>\n",
       "    <tr>\n",
       "      <th>1</th>\n",
       "      <td>Girl Most Likely</td>\n",
       "      <td>Largely witless and disappointingly dull, Girl Most Likely strands the gifted Kristen Wiig in a blandly hollow foray into scattershot sitcom territory.</td>\n",
       "      <td>\"Girl Most Likely\" is a disappointing comedy, with many critics finding it to be unfunny and clichéd despite a talented cast, especially Kristen Wiig. The film's weak script, uneven tone, and sitcom-like qualities ultimately fail to deliver on its potential.\\n</td>\n",
       "    </tr>\n",
       "    <tr>\n",
       "      <th>2</th>\n",
       "      <td>Jurassic Park III</td>\n",
       "      <td>Jurassic Park III is darker and faster than its predecessors, but that doesn't quite compensate for the franchise's continuing creative decline.</td>\n",
       "      <td>\"Jurassic Park III\" is a formulaic but entertaining thrill ride, praised for its impressive dinosaur effects and fast-paced action. However, many reviewers found the plot and characters lacking, calling it a B-movie lacking the wonder of the original.\\n</td>\n",
       "    </tr>\n",
       "    <tr>\n",
       "      <th>3</th>\n",
       "      <td>Moms' Night Out</td>\n",
       "      <td>Cheap-looking, unfunny, and kind of sexist to boot, Moms' Night Out is a disappointment from start to finish.</td>\n",
       "      <td>\"Moms' Night Out\" is a faith-based comedy with mixed reviews; some find it funny and heartwarming while others see it as tedious and unfunny with dated themes. The film's portrayal of mothers and gender roles is also criticized.\\n</td>\n",
       "    </tr>\n",
       "    <tr>\n",
       "      <th>4</th>\n",
       "      <td>Doubt</td>\n",
       "      <td>Doubt succeeds on the strength of its top-notch cast, who successfully guide the film through the occasional narrative lull.</td>\n",
       "      <td>\"Doubt\" is a well-acted and thought-provoking adaptation of a stage play, featuring powerful performances by Meryl Streep and others. However, some critics feel the film is too theatrical and lacks cinematic impact.\\n</td>\n",
       "    </tr>\n",
       "  </tbody>\n",
       "</table>\n",
       "</div>"
      ],
      "text/plain": [
       "                     movie_title  \\\n",
       "0  Hour of the Wolf (Vargtimmen)   \n",
       "1               Girl Most Likely   \n",
       "2              Jurassic Park III   \n",
       "3                Moms' Night Out   \n",
       "4                          Doubt   \n",
       "\n",
       "                                                                                                                                                        critics_consensus  \\\n",
       "0  Ingmar Bergman makes a successful foray into horror with Hour of the Wolf, infusing the demons that spring from creativity with his trademark psychological curiosity.   \n",
       "1                 Largely witless and disappointingly dull, Girl Most Likely strands the gifted Kristen Wiig in a blandly hollow foray into scattershot sitcom territory.   \n",
       "2                        Jurassic Park III is darker and faster than its predecessors, but that doesn't quite compensate for the franchise's continuing creative decline.   \n",
       "3                                                           Cheap-looking, unfunny, and kind of sexist to boot, Moms' Night Out is a disappointment from start to finish.   \n",
       "4                                            Doubt succeeds on the strength of its top-notch cast, who successfully guide the film through the occasional narrative lull.   \n",
       "\n",
       "                                                                                                                                                                                                                                                      generated_summary  \n",
       "0       \"Hour of the Wolf\" is a haunting and outlandish gothic fantasy, exploring existential dread and the impossible nature of relationships. It's a psychologically terrifying and visually striking film, though some consider it a less successful Bergman work.\\n  \n",
       "1  \"Girl Most Likely\" is a disappointing comedy, with many critics finding it to be unfunny and clichéd despite a talented cast, especially Kristen Wiig. The film's weak script, uneven tone, and sitcom-like qualities ultimately fail to deliver on its potential.\\n  \n",
       "2         \"Jurassic Park III\" is a formulaic but entertaining thrill ride, praised for its impressive dinosaur effects and fast-paced action. However, many reviewers found the plot and characters lacking, calling it a B-movie lacking the wonder of the original.\\n  \n",
       "3                                \"Moms' Night Out\" is a faith-based comedy with mixed reviews; some find it funny and heartwarming while others see it as tedious and unfunny with dated themes. The film's portrayal of mothers and gender roles is also criticized.\\n  \n",
       "4                                             \"Doubt\" is a well-acted and thought-provoking adaptation of a stage play, featuring powerful performances by Meryl Streep and others. However, some critics feel the film is too theatrical and lacks cinematic impact.\\n  "
      ]
     },
     "execution_count": 18,
     "metadata": {},
     "output_type": "execute_result"
    }
   ],
   "source": [
    "pd.set_option('display.max_colwidth', None)\n",
    "\n",
    "# Create a DataFrame with the results\n",
    "summaries_df = pd.DataFrame(summaries)\n",
    "\n",
    "# Display the results\n",
    "summaries_df[['movie_title', 'critics_consensus', 'generated_summary']]"
   ]
  },
  {
   "cell_type": "code",
   "execution_count": 19,
   "metadata": {},
   "outputs": [],
   "source": [
    "pd.reset_option('display.max_colwidth')"
   ]
  },
  {
   "cell_type": "markdown",
   "metadata": {},
   "source": [
    "### OpenAI\n",
    "\n",
    "*TO IMPLEMENT*"
   ]
  },
  {
   "cell_type": "code",
   "execution_count": null,
   "metadata": {},
   "outputs": [],
   "source": [
    "prompt = f\"\"\"\n",
    "\n",
    "\"\"\""
   ]
  },
  {
   "cell_type": "code",
   "execution_count": null,
   "metadata": {},
   "outputs": [],
   "source": [
    "m"
   ]
  },
  {
   "cell_type": "markdown",
   "metadata": {},
   "source": [
    "## One-shot\n",
    "\n",
    "*TO IMPLEMENT*"
   ]
  },
  {
   "cell_type": "code",
   "execution_count": null,
   "metadata": {},
   "outputs": [],
   "source": [
    "##"
   ]
  },
  {
   "cell_type": "code",
   "execution_count": null,
   "metadata": {},
   "outputs": [],
   "source": []
  },
  {
   "cell_type": "markdown",
   "metadata": {},
   "source": [
    "## Few-shot\n",
    "\n",
    "*TO IMPLEMENT*"
   ]
  },
  {
   "cell_type": "code",
   "execution_count": null,
   "metadata": {},
   "outputs": [],
   "source": []
  },
  {
   "cell_type": "markdown",
   "metadata": {},
   "source": [
    "## Fine-tuning\n",
    "\n",
    "*TO IMPLEMENT*"
   ]
  },
  {
   "cell_type": "code",
   "execution_count": null,
   "metadata": {},
   "outputs": [],
   "source": []
  },
  {
   "cell_type": "markdown",
   "metadata": {},
   "source": [
    "# Evaluation"
   ]
  },
  {
   "cell_type": "markdown",
   "metadata": {},
   "source": [
    "## ROUGE\n",
    "\n",
    "*TO IMPLEMENT*"
   ]
  },
  {
   "cell_type": "code",
   "execution_count": null,
   "metadata": {},
   "outputs": [],
   "source": []
  },
  {
   "cell_type": "markdown",
   "metadata": {},
   "source": [
    "## BERTScore\n",
    "\n",
    "Future work could include\n",
    "1. Parallelizing the evaluation process to speed it up"
   ]
  },
  {
   "cell_type": "markdown",
   "metadata": {},
   "source": [
    "https://huggingface.co/spaces/evaluate-metric/bertscore\n",
    "\n",
    "*ADD EXPLANATION*"
   ]
  },
  {
   "cell_type": "code",
   "execution_count": null,
   "metadata": {},
   "outputs": [
    {
     "name": "stderr",
     "output_type": "stream",
     "text": [
      "Some weights of RobertaModel were not initialized from the model checkpoint at roberta-large and are newly initialized: ['roberta.pooler.dense.bias', 'roberta.pooler.dense.weight']\n",
      "You should probably TRAIN this model on a down-stream task to be able to use it for predictions and inference.\n"
     ]
    },
    {
     "name": "stdout",
     "output_type": "stream",
     "text": [
      "calculating scores...\n",
      "computing bert embedding.\n"
     ]
    },
    {
     "name": "stderr",
     "output_type": "stream",
     "text": [
      "100%|██████████| 1/1 [00:02<00:00,  2.36s/it]\n"
     ]
    },
    {
     "name": "stdout",
     "output_type": "stream",
     "text": [
      "computing greedy matching.\n"
     ]
    },
    {
     "name": "stderr",
     "output_type": "stream",
     "text": [
      "100%|██████████| 1/1 [00:00<00:00, 451.68it/s]"
     ]
    },
    {
     "name": "stdout",
     "output_type": "stream",
     "text": [
      "done in 2.37 seconds, 2.11 sentences/sec\n"
     ]
    },
    {
     "name": "stderr",
     "output_type": "stream",
     "text": [
      "\n"
     ]
    },
    {
     "data": {
      "text/html": [
       "<div>\n",
       "<style scoped>\n",
       "    .dataframe tbody tr th:only-of-type {\n",
       "        vertical-align: middle;\n",
       "    }\n",
       "\n",
       "    .dataframe tbody tr th {\n",
       "        vertical-align: top;\n",
       "    }\n",
       "\n",
       "    .dataframe thead th {\n",
       "        text-align: right;\n",
       "    }\n",
       "</style>\n",
       "<table border=\"1\" class=\"dataframe\">\n",
       "  <thead>\n",
       "    <tr style=\"text-align: right;\">\n",
       "      <th></th>\n",
       "      <th>movie_title</th>\n",
       "      <th>critics_consensus</th>\n",
       "      <th>generated_summary</th>\n",
       "      <th>bertscore_f1</th>\n",
       "    </tr>\n",
       "  </thead>\n",
       "  <tbody>\n",
       "    <tr>\n",
       "      <th>0</th>\n",
       "      <td>Hour of the Wolf (Vargtimmen)</td>\n",
       "      <td>Ingmar Bergman makes a successful foray into h...</td>\n",
       "      <td>\"Hour of the Wolf\" is a haunting and outlandis...</td>\n",
       "      <td>0.873442</td>\n",
       "    </tr>\n",
       "    <tr>\n",
       "      <th>1</th>\n",
       "      <td>Girl Most Likely</td>\n",
       "      <td>Largely witless and disappointingly dull, Girl...</td>\n",
       "      <td>\"Girl Most Likely\" is a disappointing comedy, ...</td>\n",
       "      <td>0.875090</td>\n",
       "    </tr>\n",
       "    <tr>\n",
       "      <th>2</th>\n",
       "      <td>Jurassic Park III</td>\n",
       "      <td>Jurassic Park III is darker and faster than it...</td>\n",
       "      <td>\"Jurassic Park III\" is a formulaic but enterta...</td>\n",
       "      <td>0.876495</td>\n",
       "    </tr>\n",
       "    <tr>\n",
       "      <th>3</th>\n",
       "      <td>Moms' Night Out</td>\n",
       "      <td>Cheap-looking, unfunny, and kind of sexist to ...</td>\n",
       "      <td>\"Moms' Night Out\" is a faith-based comedy with...</td>\n",
       "      <td>0.880312</td>\n",
       "    </tr>\n",
       "    <tr>\n",
       "      <th>4</th>\n",
       "      <td>Doubt</td>\n",
       "      <td>Doubt succeeds on the strength of its top-notc...</td>\n",
       "      <td>\"Doubt\" is a well-acted and thought-provoking ...</td>\n",
       "      <td>0.873475</td>\n",
       "    </tr>\n",
       "  </tbody>\n",
       "</table>\n",
       "</div>"
      ],
      "text/plain": [
       "                     movie_title  \\\n",
       "0  Hour of the Wolf (Vargtimmen)   \n",
       "1               Girl Most Likely   \n",
       "2              Jurassic Park III   \n",
       "3                Moms' Night Out   \n",
       "4                          Doubt   \n",
       "\n",
       "                                   critics_consensus  \\\n",
       "0  Ingmar Bergman makes a successful foray into h...   \n",
       "1  Largely witless and disappointingly dull, Girl...   \n",
       "2  Jurassic Park III is darker and faster than it...   \n",
       "3  Cheap-looking, unfunny, and kind of sexist to ...   \n",
       "4  Doubt succeeds on the strength of its top-notc...   \n",
       "\n",
       "                                   generated_summary  bertscore_f1  \n",
       "0  \"Hour of the Wolf\" is a haunting and outlandis...      0.873442  \n",
       "1  \"Girl Most Likely\" is a disappointing comedy, ...      0.875090  \n",
       "2  \"Jurassic Park III\" is a formulaic but enterta...      0.876495  \n",
       "3  \"Moms' Night Out\" is a faith-based comedy with...      0.880312  \n",
       "4  \"Doubt\" is a well-acted and thought-provoking ...      0.873475  "
      ]
     },
     "execution_count": 20,
     "metadata": {},
     "output_type": "execute_result"
    }
   ],
   "source": [
    "# Function to calculate BERTScore\n",
    "def calculate_bert_score(references, candidates):\n",
    "    # Calculate precision, recall, and F1 scores\n",
    "    P, R, F1 = score(candidates, references, lang=\"en\", verbose=True)\n",
    "    \n",
    "    # Convert PyTorch tensors to Python floats\n",
    "    P = [p.item() for p in P]\n",
    "    R = [r.item() for r in R]\n",
    "    F1 = [f.item() for f in F1]\n",
    "    \n",
    "    return P, R, F1\n",
    "\n",
    "# Extract critics consensus and generated summaries\n",
    "references = summaries_df['critics_consensus'].tolist()\n",
    "candidates = summaries_df['generated_summary'].tolist()\n",
    "\n",
    "# Calculate BERTScore\n",
    "precision, recall, f1 = calculate_bert_score(references, candidates)\n",
    "\n",
    "# Add scores to the DataFrame\n",
    "summaries_df['bertscore_precision'] = precision\n",
    "summaries_df['bertscore_recall'] = recall\n",
    "summaries_df['bertscore_f1'] = f1"
   ]
  },
  {
   "cell_type": "code",
   "execution_count": 22,
   "metadata": {},
   "outputs": [
    {
     "data": {
      "text/html": [
       "<div>\n",
       "<style scoped>\n",
       "    .dataframe tbody tr th:only-of-type {\n",
       "        vertical-align: middle;\n",
       "    }\n",
       "\n",
       "    .dataframe tbody tr th {\n",
       "        vertical-align: top;\n",
       "    }\n",
       "\n",
       "    .dataframe thead th {\n",
       "        text-align: right;\n",
       "    }\n",
       "</style>\n",
       "<table border=\"1\" class=\"dataframe\">\n",
       "  <thead>\n",
       "    <tr style=\"text-align: right;\">\n",
       "      <th></th>\n",
       "      <th>movie_title</th>\n",
       "      <th>critics_consensus</th>\n",
       "      <th>generated_summary</th>\n",
       "      <th>num_reviews</th>\n",
       "      <th>bertscore_precision</th>\n",
       "      <th>bertscore_recall</th>\n",
       "      <th>bertscore_f1</th>\n",
       "    </tr>\n",
       "  </thead>\n",
       "  <tbody>\n",
       "    <tr>\n",
       "      <th>0</th>\n",
       "      <td>Hour of the Wolf (Vargtimmen)</td>\n",
       "      <td>Ingmar Bergman makes a successful foray into horror with Hour of the Wolf, infusing the demons that spring from creativity with his trademark psychological curiosity.</td>\n",
       "      <td>\"Hour of the Wolf\" is a haunting and outlandish gothic fantasy, exploring existential dread and the impossible nature of relationships. It's a psychologically terrifying and visually striking film, though some consider it a less successful Bergman work.\\n</td>\n",
       "      <td>19</td>\n",
       "      <td>0.872642</td>\n",
       "      <td>0.874244</td>\n",
       "      <td>0.873442</td>\n",
       "    </tr>\n",
       "    <tr>\n",
       "      <th>1</th>\n",
       "      <td>Girl Most Likely</td>\n",
       "      <td>Largely witless and disappointingly dull, Girl Most Likely strands the gifted Kristen Wiig in a blandly hollow foray into scattershot sitcom territory.</td>\n",
       "      <td>\"Girl Most Likely\" is a disappointing comedy, with many critics finding it to be unfunny and clichéd despite a talented cast, especially Kristen Wiig. The film's weak script, uneven tone, and sitcom-like qualities ultimately fail to deliver on its potential.\\n</td>\n",
       "      <td>94</td>\n",
       "      <td>0.876370</td>\n",
       "      <td>0.873814</td>\n",
       "      <td>0.875090</td>\n",
       "    </tr>\n",
       "    <tr>\n",
       "      <th>2</th>\n",
       "      <td>Jurassic Park III</td>\n",
       "      <td>Jurassic Park III is darker and faster than its predecessors, but that doesn't quite compensate for the franchise's continuing creative decline.</td>\n",
       "      <td>\"Jurassic Park III\" is a formulaic but entertaining thrill ride, praised for its impressive dinosaur effects and fast-paced action. However, many reviewers found the plot and characters lacking, calling it a B-movie lacking the wonder of the original.\\n</td>\n",
       "      <td>183</td>\n",
       "      <td>0.868532</td>\n",
       "      <td>0.884605</td>\n",
       "      <td>0.876495</td>\n",
       "    </tr>\n",
       "    <tr>\n",
       "      <th>3</th>\n",
       "      <td>Moms' Night Out</td>\n",
       "      <td>Cheap-looking, unfunny, and kind of sexist to boot, Moms' Night Out is a disappointment from start to finish.</td>\n",
       "      <td>\"Moms' Night Out\" is a faith-based comedy with mixed reviews; some find it funny and heartwarming while others see it as tedious and unfunny with dated themes. The film's portrayal of mothers and gender roles is also criticized.\\n</td>\n",
       "      <td>44</td>\n",
       "      <td>0.876842</td>\n",
       "      <td>0.883810</td>\n",
       "      <td>0.880312</td>\n",
       "    </tr>\n",
       "    <tr>\n",
       "      <th>4</th>\n",
       "      <td>Doubt</td>\n",
       "      <td>Doubt succeeds on the strength of its top-notch cast, who successfully guide the film through the occasional narrative lull.</td>\n",
       "      <td>\"Doubt\" is a well-acted and thought-provoking adaptation of a stage play, featuring powerful performances by Meryl Streep and others. However, some critics feel the film is too theatrical and lacks cinematic impact.\\n</td>\n",
       "      <td>216</td>\n",
       "      <td>0.862567</td>\n",
       "      <td>0.884662</td>\n",
       "      <td>0.873475</td>\n",
       "    </tr>\n",
       "  </tbody>\n",
       "</table>\n",
       "</div>"
      ],
      "text/plain": [
       "                     movie_title  \\\n",
       "0  Hour of the Wolf (Vargtimmen)   \n",
       "1               Girl Most Likely   \n",
       "2              Jurassic Park III   \n",
       "3                Moms' Night Out   \n",
       "4                          Doubt   \n",
       "\n",
       "                                                                                                                                                        critics_consensus  \\\n",
       "0  Ingmar Bergman makes a successful foray into horror with Hour of the Wolf, infusing the demons that spring from creativity with his trademark psychological curiosity.   \n",
       "1                 Largely witless and disappointingly dull, Girl Most Likely strands the gifted Kristen Wiig in a blandly hollow foray into scattershot sitcom territory.   \n",
       "2                        Jurassic Park III is darker and faster than its predecessors, but that doesn't quite compensate for the franchise's continuing creative decline.   \n",
       "3                                                           Cheap-looking, unfunny, and kind of sexist to boot, Moms' Night Out is a disappointment from start to finish.   \n",
       "4                                            Doubt succeeds on the strength of its top-notch cast, who successfully guide the film through the occasional narrative lull.   \n",
       "\n",
       "                                                                                                                                                                                                                                                      generated_summary  \\\n",
       "0       \"Hour of the Wolf\" is a haunting and outlandish gothic fantasy, exploring existential dread and the impossible nature of relationships. It's a psychologically terrifying and visually striking film, though some consider it a less successful Bergman work.\\n   \n",
       "1  \"Girl Most Likely\" is a disappointing comedy, with many critics finding it to be unfunny and clichéd despite a talented cast, especially Kristen Wiig. The film's weak script, uneven tone, and sitcom-like qualities ultimately fail to deliver on its potential.\\n   \n",
       "2         \"Jurassic Park III\" is a formulaic but entertaining thrill ride, praised for its impressive dinosaur effects and fast-paced action. However, many reviewers found the plot and characters lacking, calling it a B-movie lacking the wonder of the original.\\n   \n",
       "3                                \"Moms' Night Out\" is a faith-based comedy with mixed reviews; some find it funny and heartwarming while others see it as tedious and unfunny with dated themes. The film's portrayal of mothers and gender roles is also criticized.\\n   \n",
       "4                                             \"Doubt\" is a well-acted and thought-provoking adaptation of a stage play, featuring powerful performances by Meryl Streep and others. However, some critics feel the film is too theatrical and lacks cinematic impact.\\n   \n",
       "\n",
       "   num_reviews  bertscore_precision  bertscore_recall  bertscore_f1  \n",
       "0           19             0.872642          0.874244      0.873442  \n",
       "1           94             0.876370          0.873814      0.875090  \n",
       "2          183             0.868532          0.884605      0.876495  \n",
       "3           44             0.876842          0.883810      0.880312  \n",
       "4          216             0.862567          0.884662      0.873475  "
      ]
     },
     "execution_count": 22,
     "metadata": {},
     "output_type": "execute_result"
    }
   ],
   "source": [
    "pd.set_option('display.max_colwidth', None)\n",
    "summaries_df"
   ]
  },
  {
   "cell_type": "code",
   "execution_count": 23,
   "metadata": {},
   "outputs": [],
   "source": [
    "pd.reset_option('display.max_colwidth')"
   ]
  },
  {
   "cell_type": "markdown",
   "metadata": {},
   "source": [
    "## LLM Evaluation\n",
    "\n",
    "Ask an LLM to compare the generated summary with the critics consensus and rate the summary on a scale of 1-10.\n",
    "\n",
    "Future work could include \n",
    "1. Prompt engineering to improve the quality of the evaluation. For example, we could specify specific dimensions/characteristics of the summary that we want to evaluate.\n",
    "2. Using a different LLM for evaluation than we did for summary generation\n",
    "3. Parallelizing the evaluation process to speed it up"
   ]
  },
  {
   "cell_type": "code",
   "execution_count": 24,
   "metadata": {},
   "outputs": [],
   "source": [
    "def evaluate_summary_with_llm(reference, candidate, movie_title):\n",
    "    \"\"\"Simple LLM evaluation of summary quality\"\"\"\n",
    "    prompt = f\"\"\"Rate how well this generated summary captures the critics consensus for the movie \"{movie_title}\".\n",
    "    \n",
    "    Critics Consensus: \"{reference}\"\n",
    "    Generated Summary: \"{candidate}\"\n",
    "    \n",
    "    Rate on a scale of 1-10. Provide only the number, no explanation or other text.\n",
    "    \"\"\"\n",
    "    \n",
    "    try:\n",
    "        response = client.models.generate_content(model=\"gemini-2.0-flash-lite\", contents=prompt)\n",
    "        return response.text.strip()\n",
    "    except Exception as e:\n",
    "        return f\"Error: {str(e)}\""
   ]
  },
  {
   "cell_type": "code",
   "execution_count": 25,
   "metadata": {},
   "outputs": [
    {
     "name": "stderr",
     "output_type": "stream",
     "text": [
      "100%|██████████| 5/5 [00:07<00:00,  1.52s/it]\n"
     ]
    }
   ],
   "source": [
    "## LLM Evaluation\n",
    "\n",
    "# Evaluate each summary\n",
    "summaries_df['llm_score'] = None\n",
    "for i, row in tqdm(summaries_df.iterrows(), total=len(summaries_df)):\n",
    "    score = evaluate_summary_with_llm(\n",
    "        row['critics_consensus'], \n",
    "        row['generated_summary'], \n",
    "        row['movie_title']\n",
    "    )\n",
    "    \n",
    "    # Try to convert to float if possible\n",
    "    try:\n",
    "        summaries_df.at[i, 'llm_score'] = float(score)\n",
    "    except (ValueError, TypeError):\n",
    "        summaries_df.at[i, 'llm_score'] = None\n",
    "    \n",
    "    # Sleep to avoid rate limiting\n",
    "    time.sleep(1)"
   ]
  },
  {
   "cell_type": "code",
   "execution_count": 26,
   "metadata": {},
   "outputs": [
    {
     "data": {
      "text/html": [
       "<div>\n",
       "<style scoped>\n",
       "    .dataframe tbody tr th:only-of-type {\n",
       "        vertical-align: middle;\n",
       "    }\n",
       "\n",
       "    .dataframe tbody tr th {\n",
       "        vertical-align: top;\n",
       "    }\n",
       "\n",
       "    .dataframe thead th {\n",
       "        text-align: right;\n",
       "    }\n",
       "</style>\n",
       "<table border=\"1\" class=\"dataframe\">\n",
       "  <thead>\n",
       "    <tr style=\"text-align: right;\">\n",
       "      <th></th>\n",
       "      <th>movie_title</th>\n",
       "      <th>critics_consensus</th>\n",
       "      <th>generated_summary</th>\n",
       "      <th>llm_score</th>\n",
       "    </tr>\n",
       "  </thead>\n",
       "  <tbody>\n",
       "    <tr>\n",
       "      <th>0</th>\n",
       "      <td>Hour of the Wolf (Vargtimmen)</td>\n",
       "      <td>Ingmar Bergman makes a successful foray into horror with Hour of the Wolf, infusing the demons that spring from creativity with his trademark psychological curiosity.</td>\n",
       "      <td>\"Hour of the Wolf\" is a haunting and outlandish gothic fantasy, exploring existential dread and the impossible nature of relationships. It's a psychologically terrifying and visually striking film, though some consider it a less successful Bergman work.\\n</td>\n",
       "      <td>7.0</td>\n",
       "    </tr>\n",
       "    <tr>\n",
       "      <th>1</th>\n",
       "      <td>Girl Most Likely</td>\n",
       "      <td>Largely witless and disappointingly dull, Girl Most Likely strands the gifted Kristen Wiig in a blandly hollow foray into scattershot sitcom territory.</td>\n",
       "      <td>\"Girl Most Likely\" is a disappointing comedy, with many critics finding it to be unfunny and clichéd despite a talented cast, especially Kristen Wiig. The film's weak script, uneven tone, and sitcom-like qualities ultimately fail to deliver on its potential.\\n</td>\n",
       "      <td>9.0</td>\n",
       "    </tr>\n",
       "    <tr>\n",
       "      <th>2</th>\n",
       "      <td>Jurassic Park III</td>\n",
       "      <td>Jurassic Park III is darker and faster than its predecessors, but that doesn't quite compensate for the franchise's continuing creative decline.</td>\n",
       "      <td>\"Jurassic Park III\" is a formulaic but entertaining thrill ride, praised for its impressive dinosaur effects and fast-paced action. However, many reviewers found the plot and characters lacking, calling it a B-movie lacking the wonder of the original.\\n</td>\n",
       "      <td>6.0</td>\n",
       "    </tr>\n",
       "    <tr>\n",
       "      <th>3</th>\n",
       "      <td>Moms' Night Out</td>\n",
       "      <td>Cheap-looking, unfunny, and kind of sexist to boot, Moms' Night Out is a disappointment from start to finish.</td>\n",
       "      <td>\"Moms' Night Out\" is a faith-based comedy with mixed reviews; some find it funny and heartwarming while others see it as tedious and unfunny with dated themes. The film's portrayal of mothers and gender roles is also criticized.\\n</td>\n",
       "      <td>4.0</td>\n",
       "    </tr>\n",
       "    <tr>\n",
       "      <th>4</th>\n",
       "      <td>Doubt</td>\n",
       "      <td>Doubt succeeds on the strength of its top-notch cast, who successfully guide the film through the occasional narrative lull.</td>\n",
       "      <td>\"Doubt\" is a well-acted and thought-provoking adaptation of a stage play, featuring powerful performances by Meryl Streep and others. However, some critics feel the film is too theatrical and lacks cinematic impact.\\n</td>\n",
       "      <td>6.0</td>\n",
       "    </tr>\n",
       "  </tbody>\n",
       "</table>\n",
       "</div>"
      ],
      "text/plain": [
       "                     movie_title  \\\n",
       "0  Hour of the Wolf (Vargtimmen)   \n",
       "1               Girl Most Likely   \n",
       "2              Jurassic Park III   \n",
       "3                Moms' Night Out   \n",
       "4                          Doubt   \n",
       "\n",
       "                                                                                                                                                        critics_consensus  \\\n",
       "0  Ingmar Bergman makes a successful foray into horror with Hour of the Wolf, infusing the demons that spring from creativity with his trademark psychological curiosity.   \n",
       "1                 Largely witless and disappointingly dull, Girl Most Likely strands the gifted Kristen Wiig in a blandly hollow foray into scattershot sitcom territory.   \n",
       "2                        Jurassic Park III is darker and faster than its predecessors, but that doesn't quite compensate for the franchise's continuing creative decline.   \n",
       "3                                                           Cheap-looking, unfunny, and kind of sexist to boot, Moms' Night Out is a disappointment from start to finish.   \n",
       "4                                            Doubt succeeds on the strength of its top-notch cast, who successfully guide the film through the occasional narrative lull.   \n",
       "\n",
       "                                                                                                                                                                                                                                                      generated_summary  \\\n",
       "0       \"Hour of the Wolf\" is a haunting and outlandish gothic fantasy, exploring existential dread and the impossible nature of relationships. It's a psychologically terrifying and visually striking film, though some consider it a less successful Bergman work.\\n   \n",
       "1  \"Girl Most Likely\" is a disappointing comedy, with many critics finding it to be unfunny and clichéd despite a talented cast, especially Kristen Wiig. The film's weak script, uneven tone, and sitcom-like qualities ultimately fail to deliver on its potential.\\n   \n",
       "2         \"Jurassic Park III\" is a formulaic but entertaining thrill ride, praised for its impressive dinosaur effects and fast-paced action. However, many reviewers found the plot and characters lacking, calling it a B-movie lacking the wonder of the original.\\n   \n",
       "3                                \"Moms' Night Out\" is a faith-based comedy with mixed reviews; some find it funny and heartwarming while others see it as tedious and unfunny with dated themes. The film's portrayal of mothers and gender roles is also criticized.\\n   \n",
       "4                                             \"Doubt\" is a well-acted and thought-provoking adaptation of a stage play, featuring powerful performances by Meryl Streep and others. However, some critics feel the film is too theatrical and lacks cinematic impact.\\n   \n",
       "\n",
       "  llm_score  \n",
       "0       7.0  \n",
       "1       9.0  \n",
       "2       6.0  \n",
       "3       4.0  \n",
       "4       6.0  "
      ]
     },
     "execution_count": 26,
     "metadata": {},
     "output_type": "execute_result"
    }
   ],
   "source": [
    "# Display results\n",
    "pd.set_option('display.max_colwidth', None)\n",
    "summaries_df[['movie_title', 'critics_consensus', 'generated_summary', 'llm_score']]"
   ]
  },
  {
   "cell_type": "code",
   "execution_count": 27,
   "metadata": {},
   "outputs": [],
   "source": [
    "pd.reset_option('display.max_colwidth')"
   ]
  },
  {
   "cell_type": "markdown",
   "metadata": {},
   "source": [
    "## Report Generation\n",
    "\n",
    "*TO IMPLEMENT*"
   ]
  },
  {
   "cell_type": "code",
   "execution_count": null,
   "metadata": {},
   "outputs": [],
   "source": []
  }
 ],
 "metadata": {
  "kernelspec": {
   "display_name": ".venv",
   "language": "python",
   "name": "python3"
  },
  "language_info": {
   "codemirror_mode": {
    "name": "ipython",
    "version": 3
   },
   "file_extension": ".py",
   "mimetype": "text/x-python",
   "name": "python",
   "nbconvert_exporter": "python",
   "pygments_lexer": "ipython3",
   "version": "3.12.2"
  }
 },
 "nbformat": 4,
 "nbformat_minor": 2
}
